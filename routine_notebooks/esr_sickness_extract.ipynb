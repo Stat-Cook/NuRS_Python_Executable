{
 "cells": [
  {
   "cell_type": "markdown",
   "metadata": {},
   "source": [
    "## ESR Sickness Extract\n",
    "\n",
    "Set up environment and import packages:"
   ]
  },
  {
   "cell_type": "code",
   "execution_count": 4,
   "metadata": {},
   "outputs": [],
   "source": [
    "import os\n",
    "\n",
    "path, folder = os.path.split(os.getcwd())\n",
    "if folder == \"routine_notebooks\":\n",
    "    os.chdir(path)\n",
    "\n",
    "from nurs_routines.utilities import check_file_names, ScriptFactory\n",
    "from nurs_routines.config import EXTRACT_PATH\n",
    "from nurs_routines import esr_sickness_extract"
   ]
  },
  {
   "cell_type": "markdown",
   "metadata": {},
   "source": [
    "\n",
    "Process ESR Sickness data sets to remove PID.\n",
    "Steps:\n",
    "1. Find files in Trust_data/ESR_Mandatory_Training\n",
    "2. Open and remove any PID.\n",
    "3. Save to file ESR_Sickness_processed.csv\n"
   ]
  },
  {
   "cell_type": "code",
   "execution_count": 5,
   "metadata": {},
   "outputs": [
    {
     "name": "stdout",
     "output_type": "stream",
     "text": [
      "Complete - data written to Extract_data\\ESR_Sickness_processed.csv\n"
     ]
    }
   ],
   "source": [
    "check_file_names(\"ESR_Sickness\")\n",
    "\n",
    "# tasks = {\n",
    "#     \"Load data\": dict(path=\"Trust_data\\Temporary_Files\", name=\"ESR_Sickness_Combined\"),\n",
    "#     \"Remove PID\": dict(\n",
    "#         extra_remove=[\"Last Name\", \"Middle Name\", \"First Name\", \"Title\", \"Supervisor\"]\n",
    "#     ),\n",
    "#     \"To file\": dict(extract_path=EXTRACT_PATH, file_name=\"ESR_Sickness_processed\")\n",
    "# }\n",
    "routine = ScriptFactory(EXTRACT_PATH, \"ESR_Sickness\", esr_sickness_extract.tasks)\n",
    "routine.process_script();"
   ]
  }
 ],
 "metadata": {
  "kernelspec": {
   "display_name": "Python 3",
   "language": "python",
   "name": "python3"
  },
  "language_info": {
   "codemirror_mode": {
    "name": "ipython",
    "version": 3
   },
   "file_extension": ".py",
   "mimetype": "text/x-python",
   "name": "python",
   "nbconvert_exporter": "python",
   "pygments_lexer": "ipython3",
   "version": "3.8.3"
  }
 },
 "nbformat": 4,
 "nbformat_minor": 4
}
