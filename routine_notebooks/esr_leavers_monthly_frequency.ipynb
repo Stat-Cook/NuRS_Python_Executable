{
 "cells": [
  {
   "cell_type": "markdown",
   "metadata": {},
   "source": [
    "## ESR Leavers Monthly Frequency\n",
    "\n",
    "Set up environment and import packages:"
   ]
  },
  {
   "cell_type": "code",
   "execution_count": 3,
   "metadata": {},
   "outputs": [],
   "source": [
    "import os\n",
    "\n",
    "path, folder = os.path.split(os.getcwd())\n",
    "if folder == \"routine_notebooks\":\n",
    "    os.chdir(path)\n",
    "\n",
    "import pandas as pd\n",
    "import numpy as np\n",
    "\n",
    "from nurs_routines.utilities import check_file_names, ScriptFactory\n",
    "from nurs_routines.config import EXTRACT_PATH"
   ]
  },
  {
   "cell_type": "markdown",
   "metadata": {},
   "source": [
    "Combine ESR Leavers data sets into a single file.\n",
    "Steps:\n",
    "1. Find files in Trust_data/ESR_Leavers\n",
    "2. Calculate the Termination Year-Month\n",
    "3. Group by Year-Month, Ward and Leaving Reason and calculate leavers frequency\n",
    "4. Drop all columns except Organisation, Termination Month, Leaving Reason, Frequency.\n",
    "5. Save to file Leavers_Monthly_Frequencies.csv\n"
   ]
  },
  {
   "cell_type": "code",
   "execution_count": 4,
   "metadata": {},
   "outputs": [
    {
     "name": "stdout",
     "output_type": "stream",
     "text": [
      "Complete - data written to Extract_data\\Leavers_Monthly_Frequencies.csv\n"
     ]
    }
   ],
   "source": [
    "FILE_NAME = \"ESR_Leavers\"\n",
    "\n",
    "\n",
    "def monthly_frequency(data):\n",
    "    \"\"\"\n",
    "    Reduce a data set to a frequency table.\n",
    "    Parameters\n",
    "    ----------\n",
    "    data: pandas.DataFrame\n",
    "        ESR Leavers data set.\n",
    "    Returns\n",
    "    -------\n",
    "    pandas.DataFrame\n",
    "    \"\"\"\n",
    "    grps = data.groupby([\"Organisation\", \"Termination Month\", \"Leaving Reason\"])\n",
    "    result = pd.DataFrame(\n",
    "        [np.concatenate((i, j.shape))[:-1] for i, j in grps]\n",
    "    )\n",
    "    result.columns = [\"Organisation\", \"Termination Month\", \"Leaving Reason\", \"Count\"]\n",
    "    return result\n",
    "\n",
    "\n",
    "if __name__ == '__main__':\n",
    "\n",
    "    check_file_names(\"ESR_Leavers\")\n",
    "\n",
    "    tasks = {\n",
    "        \"Load data\": dict(path=\"Trust_data\", name=\"ESR_Leavers\"),\n",
    "        \"Manipulate column\": dict(\n",
    "            new_column=\"Termination Month\",\n",
    "            old_column=\"Termination Date\",\n",
    "            function=lambda x: \"{}-{}\".format(x.year, x.month)\n",
    "        ),\n",
    "        \"Apply function\": dict(function=monthly_frequency),\n",
    "        \"To file\": dict(extract_path=EXTRACT_PATH, file_name=\"Leavers_Monthly_Frequencies\")\n",
    "    }\n",
    "\n",
    "    routine = ScriptFactory(EXTRACT_PATH, \"ESR_Leavers\", tasks)\n",
    "    routine.process_script()"
   ]
  }
 ],
 "metadata": {
  "kernelspec": {
   "display_name": "Python 3",
   "language": "python",
   "name": "python3"
  },
  "language_info": {
   "codemirror_mode": {
    "name": "ipython",
    "version": 3
   },
   "file_extension": ".py",
   "mimetype": "text/x-python",
   "name": "python",
   "nbconvert_exporter": "python",
   "pygments_lexer": "ipython3",
   "version": "3.8.3"
  }
 },
 "nbformat": 4,
 "nbformat_minor": 4
}
