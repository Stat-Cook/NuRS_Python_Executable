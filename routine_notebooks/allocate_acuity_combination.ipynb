{
 "cells": [
  {
   "cell_type": "markdown",
   "metadata": {},
   "source": [
    "## Allocate Acuity  Combination\n",
    "\n",
    "Set up environment and import packages:"
   ]
  },
  {
   "cell_type": "code",
   "execution_count": 5,
   "metadata": {},
   "outputs": [],
   "source": [
    "import os\n",
    "\n",
    "path, folder = os.path.split(os.getcwd())\n",
    "if folder == \"routine_notebooks\":\n",
    "    os.chdir(path)\n",
    "\n",
    "from nurs_routines.utilities import check_file_names, ScriptFactory\n",
    "from nurs_routines.config import EXTRACT_PATH"
   ]
  },
  {
   "cell_type": "markdown",
   "metadata": {},
   "source": [
    "Combine Allocate Acuity data sets into a single file.\n",
    "Steps:\n",
    "1. Find files in Trust_data/Allocate_Acuity\n",
    "2. Iterate through files opening and combining\n",
    "3. Reindex the data frame\n",
    "4. Remove any PID.\n",
    "5. Save to file Allocate_Acuity_Combined.csv"
   ]
  },
  {
   "cell_type": "code",
   "execution_count": null,
   "metadata": {},
   "outputs": [],
   "source": [
    "check_file_names(\"Allocate_Acuity\")\n",
    "\n",
    "tasks = {\n",
    "    \"Join file names\": dict(file=\"Allocate_Acuity\"),\n",
    "    \"Combine datasets\": {},\n",
    "    \"Reset index\": {},\n",
    "    \"Remove PID\": {},\n",
    "    \"To file\": dict(extract_path=EXTRACT_PATH, file_name=\"Allocate_Acuity_Combined\")\n",
    "}\n",
    "\n",
    "routine = ScriptFactory(EXTRACT_PATH, \"Allocate_Acuity_Combined\", tasks)\n",
    "routine.process_script();"
   ]
  }
 ],
 "metadata": {
  "kernelspec": {
   "display_name": "Python 3",
   "language": "python",
   "name": "python3"
  },
  "language_info": {
   "codemirror_mode": {
    "name": "ipython",
    "version": 3
   },
   "file_extension": ".py",
   "mimetype": "text/x-python",
   "name": "python",
   "nbconvert_exporter": "python",
   "pygments_lexer": "ipython3",
   "version": "3.8.3"
  }
 },
 "nbformat": 4,
 "nbformat_minor": 4
}
