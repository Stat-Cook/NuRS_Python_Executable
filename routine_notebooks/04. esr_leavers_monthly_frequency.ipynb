{
 "cells": [
  {
   "cell_type": "markdown",
   "metadata": {},
   "source": [
    "## ESR Leavers Monthly Frequency\n",
    "\n",
    "Prerequisites:\n",
    "\n",
    "* **ESR_Leavers** files are located in **Trust_data/**\n",
    "\n",
    "Set up environment and import packages:"
   ]
  },
  {
   "cell_type": "code",
   "execution_count": null,
   "metadata": {},
   "outputs": [],
   "source": [
    "import os\n",
    "\n",
    "path, folder = os.path.split(os.getcwd())\n",
    "if folder == \"routine_notebooks\":\n",
    "    os.chdir(path)\n",
    "\n",
    "import pandas as pd\n",
    "import numpy as np\n",
    "\n",
    "from nurs_routines.utilities import check_file_names, ScriptFactory\n",
    "from nurs_routines.config import EXTRACT_PATH\n",
    "from nurs_routines import esr_leavers_monthly_frequency"
   ]
  },
  {
   "cell_type": "markdown",
   "metadata": {},
   "source": [
    "Combine ESR Leavers data sets into a single file.\n",
    "Steps:\n",
    "1. Find files in Trust_data/ESR_Leavers\n",
    "2. Calculate the Termination Year-Month\n",
    "3. Group by Year-Month, Ward and Leaving Reason and calculate leavers frequency\n",
    "4. Drop all columns except Organisation, Termination Month, Leaving Reason, Frequency.\n",
    "5. Save to file Leavers_Monthly_Frequencies.csv\n"
   ]
  },
  {
   "cell_type": "code",
   "execution_count": null,
   "metadata": {},
   "outputs": [],
   "source": [
    "check_file_names(\"ESR_Leavers\")\n",
    "\n",
    "routine = ScriptFactory(EXTRACT_PATH, \"ESR_Leavers\", esr_leavers_monthly_frequency.tasks)\n",
    "routine.process_script();"
   ]
  }
 ],
 "metadata": {
  "kernelspec": {
   "display_name": "Python 3",
   "language": "python",
   "name": "python3"
  },
  "language_info": {
   "codemirror_mode": {
    "name": "ipython",
    "version": 3
   },
   "file_extension": ".py",
   "mimetype": "text/x-python",
   "name": "python",
   "nbconvert_exporter": "python",
   "pygments_lexer": "ipython3",
   "version": "3.8.3"
  }
 },
 "nbformat": 4,
 "nbformat_minor": 4
}
