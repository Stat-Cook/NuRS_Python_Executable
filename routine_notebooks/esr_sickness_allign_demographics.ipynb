{
 "cells": [
  {
   "cell_type": "markdown",
   "metadata": {},
   "source": [
    "## ESR Sickness Allign Demographics\n",
    "\n",
    "Prerequisites:\n",
    "\n",
    "* **ESR_Sickness** files are located in **Trust_data/ESR_Sickness/**\n",
    "* **ESR_Demographics** files are located in **Trust_data/ESR_Demographics/**\n",
    "* **esr_sickness_combination** routine has been executed\n",
    "* **demographics_combination** routine has been executed\n",
    "\n",
    "Set up environment and import packages:"
   ]
  },
  {
   "cell_type": "code",
   "execution_count": null,
   "metadata": {},
   "outputs": [],
   "source": [
    "import os\n",
    "\n",
    "path, folder = os.path.split(os.getcwd())\n",
    "if folder == \"routine_notebooks\":\n",
    "    os.chdir(path)\n",
    "\n",
    "from nurs_routines.utilities import ScriptFactory\n",
    "from nurs_routines.config import EXTRACT_PATH\n",
    "from nurs_routines import esr_sickness_allign_demographics"
   ]
  },
  {
   "cell_type": "markdown",
   "metadata": {},
   "source": [
    "\n",
    "Add ESR Demographics data to ESR Sickness data sets into a single file.\n",
    "Steps:\n",
    "1. Find file ESR_Sickness.csv\n",
    "2. Find file ESR_Demographics_Combined.csv\n",
    "3. Merge the files by Employee number looking backwards in date.\n",
    "4. Scramble the data at Ward level\n",
    "5. Remove any PID.\n",
    "6. Save to file ESR_Sickness_Demographics_Combined.csv\n"
   ]
  },
  {
   "cell_type": "code",
   "execution_count": null,
   "metadata": {},
   "outputs": [],
   "source": [
    "routine = ScriptFactory(EXTRACT_PATH, \"ESR_Sickness_Demographics_Combined\", esr_sickness_allign_demographics.tasks)\n",
    "data = routine.process_script();"
   ]
  }
 ],
 "metadata": {
  "kernelspec": {
   "display_name": "Python 3",
   "language": "python",
   "name": "python3"
  },
  "language_info": {
   "codemirror_mode": {
    "name": "ipython",
    "version": 3
   },
   "file_extension": ".py",
   "mimetype": "text/x-python",
   "name": "python",
   "nbconvert_exporter": "python",
   "pygments_lexer": "ipython3",
   "version": "3.8.3"
  }
 },
 "nbformat": 4,
 "nbformat_minor": 4
}
