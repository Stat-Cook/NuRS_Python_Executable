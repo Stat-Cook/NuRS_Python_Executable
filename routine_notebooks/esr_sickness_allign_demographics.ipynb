{
 "cells": [
  {
   "cell_type": "markdown",
   "metadata": {},
   "source": [
    "## ESR Sickness Allign Demographics"
   ]
  },
  {
   "cell_type": "code",
   "execution_count": 1,
   "metadata": {},
   "outputs": [],
   "source": [
    "import os\n",
    "\n",
    "path, folder = os.path.split(os.getcwd())\n",
    "if folder == \"routine_notebooks\":\n",
    "    os.chdir(path)\n",
    "\n",
    "from nurs_routines.utilities import ScriptFactory\n",
    "from nurs_routines.config import EXTRACT_PATH"
   ]
  },
  {
   "cell_type": "markdown",
   "metadata": {},
   "source": [
    "\n",
    "Add ESR Demographics data to ESR Sickness data sets into a single file.\n",
    "Steps:\n",
    "1. Find file ESR_Sickness.csv\n",
    "2. Find file ESR_Demographics_Combined.csv\n",
    "3. Merge the files by Employee number looking backwards in date.\n",
    "4. Scramble the data at Ward level\n",
    "5. Remove any PID.\n",
    "6. Save to file ESR_Sickness_Demographics_Combined.csv\n"
   ]
  },
  {
   "cell_type": "code",
   "execution_count": 2,
   "metadata": {},
   "outputs": [
    {
     "name": "stdout",
     "output_type": "stream",
     "text": [
      "Logger open at 2021-01-13 16:21:54.069681\n",
      "Merge of 249 items in progress:\n",
      "|XXXXXXXXXXXXXXXXXXXX| [100.0%]\n",
      "Merge Completed\n",
      "\n",
      "Shuffle in progress:\n",
      "|XXXXXXXXXXXXXXXXXXXX| [100.0%]Removing 'Assignment Number' from data.\n",
      "Removing 'First Name' from data.\n",
      "Removing 'Middle Name' from data.\n",
      "Removing 'Title' from data.\n",
      "Removing 'Employee Number' from data.\n",
      "Removing 'Last Name' from data.\n",
      "Data written to  Extract_data\\ESR_Sickness_Demographics_Combined.csv\n",
      "Complete - data written to Extract_data\\ESR_Sickness_Demographics_Combined.csv\n"
     ]
    }
   ],
   "source": [
    "tasks = {\n",
    "    \"Find files\": dict(path=\"Trust_data\", name=\"ESR_Sickness\"),\n",
    "    \"Find more files\": dict(\n",
    "        path=(\"Trust_data\", \"Temporary_Files\"),\n",
    "        name=\"ESR_Demographics_Combined\"\n",
    "    ),\n",
    "    \"Merge as of\": dict(\n",
    "        left_on=\"Employee Number\",\n",
    "        right_on=\"Employee Number\",\n",
    "        left_date=\"Absence Start Date\",\n",
    "        right_date=\"Date_stamp\"\n",
    "    ),\n",
    "    \"Scramble in months\": dict(aggregate_columns=\"Organisation\"),\n",
    "    \"Remove PID\": {},\n",
    "    \"To file\": dict(\n",
    "        extract_path=EXTRACT_PATH,\n",
    "        file_name=\"ESR_Sickness_Demographics_Combined\"\n",
    "    )\n",
    "}\n",
    "routine = ScriptFactory(EXTRACT_PATH, \"ESR_Sickness_Demographics_Combined\", tasks)\n",
    "routine.process_script();"
   ]
  }
 ],
 "metadata": {
  "kernelspec": {
   "display_name": "Python 3",
   "language": "python",
   "name": "python3"
  },
  "language_info": {
   "codemirror_mode": {
    "name": "ipython",
    "version": 3
   },
   "file_extension": ".py",
   "mimetype": "text/x-python",
   "name": "python",
   "nbconvert_exporter": "python",
   "pygments_lexer": "ipython3",
   "version": "3.8.3"
  }
 },
 "nbformat": 4,
 "nbformat_minor": 4
}
