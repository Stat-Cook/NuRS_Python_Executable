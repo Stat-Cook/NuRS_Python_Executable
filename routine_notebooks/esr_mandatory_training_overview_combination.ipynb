{
 "cells": [
  {
   "cell_type": "markdown",
   "metadata": {},
   "source": [
    "## ESR Mandatory Training Overview Combination\n",
    "\n",
    "Prerequisites:\n",
    "\n",
    "* **ESR_Mandatory_Training** files are located in **Trust_data/ESR_Mandatory_Training/**\n",
    "\n",
    "Set up environment and import packages:"
   ]
  },
  {
   "cell_type": "code",
   "execution_count": null,
   "metadata": {},
   "outputs": [],
   "source": [
    "import os\n",
    "\n",
    "path, folder = os.path.split(os.getcwd())\n",
    "if folder == \"routine_notebooks\":\n",
    "    os.chdir(path)\n",
    "\n",
    "\n",
    "from nurs_routines.utilities import ScriptFactory, check_file_names\n",
    "from nurs_routines.config import EXTRACT_PATH\n",
    "from nurs_routines import esr_mandatory_training_overview_combination"
   ]
  },
  {
   "cell_type": "markdown",
   "metadata": {},
   "source": [
    "\n",
    "Combine ESR Mandatory Training data sets into a single file.\n",
    "Steps:\n",
    "1. Find files in Trust_data/ESR_Mandatory_Training\n",
    "2. Iterate through files opening and combining\n",
    "3. Reindex the data frame\n",
    "4. Remove any PID.\n",
    "5. Save to file ESR_Mandatory_Training.csv\n"
   ]
  },
  {
   "cell_type": "code",
   "execution_count": null,
   "metadata": {},
   "outputs": [],
   "source": [
    "check_file_names(\"ESR_Mandatory_Training\")\n",
    "\n",
    "routine = ScriptFactory(EXTRACT_PATH, \"ESR_Mandatory_Training\", esr_mandatory_training_overview_combination.tasks)\n",
    "routine.process_script();"
   ]
  }
 ],
 "metadata": {
  "kernelspec": {
   "display_name": "Python 3",
   "language": "python",
   "name": "python3"
  },
  "language_info": {
   "codemirror_mode": {
    "name": "ipython",
    "version": 3
   },
   "file_extension": ".py",
   "mimetype": "text/x-python",
   "name": "python",
   "nbconvert_exporter": "python",
   "pygments_lexer": "ipython3",
   "version": "3.8.3"
  }
 },
 "nbformat": 4,
 "nbformat_minor": 4
}
