{
 "cells": [
  {
   "cell_type": "markdown",
   "metadata": {},
   "source": [
    "\n",
    "## Allocate Shifts Worked Combination\n",
    "\n",
    "Prerequisites:\n",
    "\n",
    "* **Allocate_Shifts_Worked** files are located in **Trust_data/Allocate_Shifts_Worked/**\n",
    "\n",
    "Set up environment and import packages:"
   ]
  },
  {
   "cell_type": "code",
   "execution_count": null,
   "metadata": {},
   "outputs": [],
   "source": [
    "import os\n",
    "\n",
    "path, folder = os.path.split(os.getcwd())\n",
    "if folder == \"routine_notebooks\":\n",
    "    os.chdir(path)\n",
    "\n",
    "from nurs_routines.utilities import check_file_names, ScriptFactory\n",
    "from nurs_routines.config import EXTRACT_PATH\n",
    "from nurs_routines import allocate_shifts_worked_combination"
   ]
  },
  {
   "cell_type": "markdown",
   "metadata": {},
   "source": [
    "\n",
    "Combine Allocate Shifts Worked data sets into a single file.\n",
    "NB: This data set contains PID to allow alignment at later stages.\n",
    "Hence - this data set should not be removed from Trusts.\n",
    "Steps:\n",
    "1. Find files in Trust_data/Allocate_Shifts_Worked\n",
    "2. Iterate through files opening and combining\n",
    "3. Reindex the data frame\n",
    "4. Save to Temporary_Files Allocate_Shifts_Worked_Combined.csv\n"
   ]
  },
  {
   "cell_type": "code",
   "execution_count": null,
   "metadata": {},
   "outputs": [],
   "source": [
    "check_file_names(\"Allocate_Shifts_Worked\")\n",
    "\n",
    "routine = ScriptFactory(EXTRACT_PATH, \"Allocate_Shifts_Worked_Combined\", allocate_shifts_worked_combination.tasks)\n",
    "routine.process_script();"
   ]
  }
 ],
 "metadata": {
  "kernelspec": {
   "display_name": "Python 3",
   "language": "python",
   "name": "python3"
  },
  "language_info": {
   "codemirror_mode": {
    "name": "ipython",
    "version": 3
   },
   "file_extension": ".py",
   "mimetype": "text/x-python",
   "name": "python",
   "nbconvert_exporter": "python",
   "pygments_lexer": "ipython3",
   "version": "3.8.3"
  }
 },
 "nbformat": 4,
 "nbformat_minor": 4
}
