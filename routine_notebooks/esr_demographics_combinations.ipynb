{
 "cells": [
  {
   "cell_type": "markdown",
   "metadata": {},
   "source": [
    "## ESR Demographics Combinations\n",
    "\n",
    "Prerequisites:\n",
    "\n",
    "* **ESR_Demographics** files are located in **Trust_data/ESR_Demographics/**\n",
    "\n",
    "Set up environment and import packages:"
   ]
  },
  {
   "cell_type": "code",
   "execution_count": null,
   "metadata": {},
   "outputs": [],
   "source": [
    "import os\n",
    "\n",
    "path, folder = os.path.split(os.getcwd())\n",
    "if folder == \"routine_notebooks\":\n",
    "    os.chdir(path)\n",
    "\n",
    "import re\n",
    "import pandas as pd\n",
    "\n",
    "from nurs_routines.utilities import ScriptFactory, check_file_names\n",
    "from nurs_routines.config import EXTRACT_PATH\n",
    "from nurs_routines import esr_demographics_combination"
   ]
  },
  {
   "cell_type": "markdown",
   "metadata": {},
   "source": [
    "\n",
    "Combine Allocate Shifts Worked data sets into a single file.\n",
    "NB: This data set contains PID to allow alignment at later stages.\n",
    "Hence - this data set should not be removed from Trusts.\n",
    "Steps:\n",
    "1. Find files in Trust_data/ESR_Demographics\n",
    "2. Iterate through files opening and combine - adding date from file name into the frame.\n",
    "3. Reindex the data frame\n",
    "4. Save to Temporary_Files ESR_Demographics_Combined.csv\n"
   ]
  },
  {
   "cell_type": "code",
   "execution_count": null,
   "metadata": {},
   "outputs": [],
   "source": [
    "check_file_names(\"ESR_Demographics\")\n",
    "\n",
    "routine = ScriptFactory(EXTRACT_PATH, \"ESR_Demographics\", esr_demographics_combination.tasks)\n",
    "routine.process_script();"
   ]
  }
 ],
 "metadata": {
  "kernelspec": {
   "display_name": "Python 3",
   "language": "python",
   "name": "python3"
  },
  "language_info": {
   "codemirror_mode": {
    "name": "ipython",
    "version": 3
   },
   "file_extension": ".py",
   "mimetype": "text/x-python",
   "name": "python",
   "nbconvert_exporter": "python",
   "pygments_lexer": "ipython3",
   "version": "3.8.3"
  }
 },
 "nbformat": 4,
 "nbformat_minor": 4
}
