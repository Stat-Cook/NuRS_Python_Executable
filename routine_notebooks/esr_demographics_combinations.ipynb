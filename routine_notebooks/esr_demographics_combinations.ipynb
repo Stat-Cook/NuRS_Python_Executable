{
 "cells": [
  {
   "cell_type": "markdown",
   "metadata": {},
   "source": [
    "## ESR Demographics Combinations"
   ]
  },
  {
   "cell_type": "code",
   "execution_count": 2,
   "metadata": {},
   "outputs": [],
   "source": [
    "import os\n",
    "\n",
    "path, folder = os.path.split(os.getcwd())\n",
    "if folder == \"routine_notebooks\":\n",
    "    os.chdir(path)\n",
    "\n",
    "import re\n",
    "import pandas as pd\n",
    "\n",
    "from nurs_routines.utilities import ScriptFactory, check_file_names\n",
    "from nurs_routines.config import EXTRACT_PATH"
   ]
  },
  {
   "cell_type": "markdown",
   "metadata": {},
   "source": [
    "\n",
    "Combine Allocate Shifts Worked data sets into a single file.\n",
    "NB: This data set contains PID to allow alignment at later stages.\n",
    "Hence - this data set should not be removed from Trusts.\n",
    "Steps:\n",
    "1. Find files in Trust_data/ESR_Demographics\n",
    "2. Iterate through files opening and combine - adding date from file name into the frame.\n",
    "3. Reindex the data frame\n",
    "4. Save to Temporary_Files ESR_Demographics_Combined.csv\n"
   ]
  },
  {
   "cell_type": "code",
   "execution_count": 3,
   "metadata": {},
   "outputs": [
    {
     "name": "stdout",
     "output_type": "stream",
     "text": [
      "Checking file types in Trust_data\\ESR_Demographics\n",
      "File types - Passed\n",
      "Opening and combining files in Trust_data\\ESR_Demographics\n",
      "Complete - data written to Trust_data\\Temporary_Files\\ESR_Demographics_Combined.csv\n"
     ]
    }
   ],
   "source": [
    "def extract_date_function(file: str):\n",
    "    \"\"\"\n",
    "    Extract the date time from file name string.\n",
    "    Parameters\n",
    "    ----------\n",
    "    file: str\n",
    "        The file name being processed\n",
    "    Returns\n",
    "    -------\n",
    "    pd.datetime\n",
    "    \"\"\"\n",
    "    pattern = re.compile(r\"(\\d+)\")\n",
    "    match = pattern.search(file)\n",
    "    if match:\n",
    "        date = pd.to_datetime(match.group(), yearfirst=True)\n",
    "        if (date.year < 2025) and (date.year > 2000):\n",
    "            return date\n",
    "\n",
    "        return pd.to_datetime(match.group(), yearfirst=False)\n",
    "\n",
    "    raise AttributeError(\"Date string not found in file name\")\n",
    "\n",
    "\n",
    "check_file_names(\"ESR_Demographics\")\n",
    "# NB: PID removal purposely not included.  Data set is not for export outside the Trust.\n",
    "tasks = {\n",
    "    \"Join file names\": dict(file=\"ESR_Demographics\"),\n",
    "    \"Combine datasets\": dict(extract_date_function=extract_date_function),\n",
    "    \"Reset index\": {},\n",
    "    \"To file\": dict(\n",
    "        extract_path=(\"Trust_data\", \"Temporary_Files\"),\n",
    "        file_name=\"ESR_Demographics_Combined\"\n",
    "    )\n",
    "}\n",
    "routine = ScriptFactory(EXTRACT_PATH, \"ESR_Demographics\", tasks)\n",
    "routine.process_script();"
   ]
  }
 ],
 "metadata": {
  "kernelspec": {
   "display_name": "Python 3",
   "language": "python",
   "name": "python3"
  },
  "language_info": {
   "codemirror_mode": {
    "name": "ipython",
    "version": 3
   },
   "file_extension": ".py",
   "mimetype": "text/x-python",
   "name": "python",
   "nbconvert_exporter": "python",
   "pygments_lexer": "ipython3",
   "version": "3.8.3"
  }
 },
 "nbformat": 4,
 "nbformat_minor": 4
}
