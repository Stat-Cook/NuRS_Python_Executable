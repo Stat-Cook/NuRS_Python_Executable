{
 "cells": [
  {
   "cell_type": "markdown",
   "id": "53722465",
   "metadata": {},
   "source": [
    "## Allocate Shift Worked Demographic allingment patch\n",
    "\n",
    "If script 10 returns an  error of the form \"utf-8 encoding error invalid start byte\" the following code is intended to fix this issue.  The default encoding to try is utf-16, but this may need checking."
   ]
  },
  {
   "cell_type": "code",
   "execution_count": null,
   "id": "233e9e51",
   "metadata": {},
   "outputs": [],
   "source": [
    "import os\n",
    "\n",
    "path, folder = os.path.split(os.getcwd())\n",
    "if folder == \"routine_notebooks\":\n",
    "    os.chdir(path)\n",
    "    \n",
    "from nurs_routines.utilities import ScriptFactory\n",
    "from nurs_routines.config import EXTRACT_PATH"
   ]
  },
  {
   "cell_type": "code",
   "execution_count": null,
   "id": "49f84fae",
   "metadata": {},
   "outputs": [],
   "source": [
    "from pathlib import Path\n",
    "import chardet\n",
    "\n",
    "rawdata = Path(\"../Trust_data/Temporary_Files/Temporary_Shift_Demographics.csv\").read_bytes()\n",
    "chardet.detect(rawdata)"
   ]
  },
  {
   "cell_type": "code",
   "execution_count": null,
   "id": "05d17c2f",
   "metadata": {},
   "outputs": [],
   "source": [
    "data = pd.read_csv('../Trust_data/Temporary_Files/Temporary_Shift_Demographics.csv', \n",
    "                  encoding=\"ascii\")"
   ]
  },
  {
   "cell_type": "code",
   "execution_count": null,
   "id": "dd2c6d6e",
   "metadata": {},
   "outputs": [],
   "source": [
    "# If temporary file still exists\n",
    "\n",
    "patch_tasks = {\n",
    "    \"Inject data\": dict(data = data),\n",
    "    \"Remove PID\": {},\n",
    "    \"To file by year\": dict(\n",
    "        extract_path=EXTRACT_PATH,\n",
    "        date_column=\"Duty Date\",\n",
    "        file_name_function=lambda x: f\"Allocate_Shifts_Worked_Demographics_Combined2_{x}\"\n",
    "    )\n",
    "}\n",
    "\n",
    "routine2 = ScriptFactory(\n",
    "    EXTRACT_PATH, \"Allocate_Shifts_Worked_Demographics_Temp\", patch_tasks\n",
    ")\n",
    "\n",
    "routine2.process_script();"
   ]
  }
 ],
 "metadata": {
  "kernelspec": {
   "display_name": "Python 3 (ipykernel)",
   "language": "python",
   "name": "python3"
  },
  "language_info": {
   "codemirror_mode": {
    "name": "ipython",
    "version": 3
   },
   "file_extension": ".py",
   "mimetype": "text/x-python",
   "name": "python",
   "nbconvert_exporter": "python",
   "pygments_lexer": "ipython3",
   "version": "3.10.7"
  }
 },
 "nbformat": 4,
 "nbformat_minor": 5
}
