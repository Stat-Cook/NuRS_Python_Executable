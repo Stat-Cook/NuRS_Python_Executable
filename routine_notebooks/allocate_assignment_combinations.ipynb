{
 "cells": [
  {
   "cell_type": "markdown",
   "metadata": {},
   "source": [
    "## Allocate Assignment Combinations\n",
    "\n",
    "Set up environment and import packages:"
   ]
  },
  {
   "cell_type": "code",
   "execution_count": 4,
   "metadata": {},
   "outputs": [],
   "source": [
    "import os\n",
    "\n",
    "path, folder = os.path.split(os.getcwd())\n",
    "if folder == \"routine_notebooks\":\n",
    "    os.chdir(path)\n",
    "\n",
    "from nurs_routines.utilities import ScriptFactory, check_file_names\n",
    "from nurs_routines.config import EXTRACT_PATH\n",
    "\n",
    "from nurs_routines import allocate_assignment_combination"
   ]
  },
  {
   "cell_type": "markdown",
   "metadata": {},
   "source": [
    "Combine Allocate Assignment data sets into a single file.\n",
    "Steps:\n",
    "1. Find files in Trust_data/Allocate_Assignment\n",
    "2. Iterate through files opening and combining\n",
    "3. Reindex the data frame\n",
    "4. Remove any PID.\n",
    "5. Save to file Allocate_Assignment_Combined.csv"
   ]
  },
  {
   "cell_type": "code",
   "execution_count": 6,
   "metadata": {},
   "outputs": [
    {
     "name": "stdout",
     "output_type": "stream",
     "text": [
      "Checking file types in Trust_data\\Allocate_Assignment\n",
      "File types - Passed\n",
      "Opening and combining files in Trust_data\\Allocate_Assignment\n",
      "Complete - data written to Extract_data\\Allocate_Assignment_Combined.csv\n"
     ]
    }
   ],
   "source": [
    "check_file_names(\"Allocate_Assignment\")\n",
    "\n",
    "tasks = {\n",
    "    \"Join file names\": dict(file=\"Allocate_Assignment\"),\n",
    "    \"Combine datasets\": {},\n",
    "    \"Reset index\": {},\n",
    "    \"Remove PID\": {},\n",
    "    \"To file\": dict(extract_path=EXTRACT_PATH, file_name=\"Allocate_Assignment_Combined\")\n",
    "}\n",
    "\n",
    "routine = ScriptFactory(EXTRACT_PATH, \"Allocate_Assignment_Combined\", allocate_assignment_combination.tasks)\n",
    "routine.process_script();"
   ]
  }
 ],
 "metadata": {
  "kernelspec": {
   "display_name": "Python 3",
   "language": "python",
   "name": "python3"
  },
  "language_info": {
   "codemirror_mode": {
    "name": "ipython",
    "version": 3
   },
   "file_extension": ".py",
   "mimetype": "text/x-python",
   "name": "python",
   "nbconvert_exporter": "python",
   "pygments_lexer": "ipython3",
   "version": "3.8.3"
  }
 },
 "nbformat": 4,
 "nbformat_minor": 4
}
