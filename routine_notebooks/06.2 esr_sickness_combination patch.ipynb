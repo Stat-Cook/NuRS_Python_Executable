{
 "cells": [
  {
   "cell_type": "markdown",
   "id": "ee17a06e",
   "metadata": {},
   "source": [
    "## ESR sickenss combination patch\n",
    "\n",
    "Where ESR sickness is supplied as a single file rather than multiple files, this patch copies and renames the data to the required location."
   ]
  },
  {
   "cell_type": "code",
   "execution_count": null,
   "id": "dd257bcb",
   "metadata": {},
   "outputs": [],
   "source": [
    "import pandas as pd\n",
    "\n",
    "absence = pd.read_csv(\"Trust_data/ESR_Absence.csv\")\n",
    "absence.to_csv(\"Trust_data/Temporary_Files/ESR_Sickness_Combined.csv\")"
   ]
  }
 ],
 "metadata": {
  "kernelspec": {
   "display_name": "Python 3 (ipykernel)",
   "language": "python",
   "name": "python3"
  },
  "language_info": {
   "codemirror_mode": {
    "name": "ipython",
    "version": 3
   },
   "file_extension": ".py",
   "mimetype": "text/x-python",
   "name": "python",
   "nbconvert_exporter": "python",
   "pygments_lexer": "ipython3",
   "version": "3.10.7"
  }
 },
 "nbformat": 4,
 "nbformat_minor": 5
}
