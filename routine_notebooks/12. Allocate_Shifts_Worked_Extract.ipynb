{
 "cells": [
  {
   "cell_type": "markdown",
   "metadata": {},
   "source": [
    "## Allocate Shift Worked - Extract raw data\n",
    "\n",
    "Prerequisites:\n",
    "\n",
    "* **Allocate_Shifts_Worked** files are located in **Trust_data/Allocate_Shifts_Worked/**\n",
    "* **allocate_shifts_worked_combination** routine has been executed\n",
    "\n",
    "Set up environment and import packages:"
   ]
  },
  {
   "cell_type": "code",
   "execution_count": null,
   "metadata": {},
   "outputs": [],
   "source": [
    "import os\n",
    "\n",
    "path, folder = os.path.split(os.getcwd())\n",
    "if folder == \"routine_notebooks\":\n",
    "    os.chdir(path)\n",
    "    \n",
    "from nurs_routines.utilities import ScriptFactory\n",
    "from nurs_routines.config import EXTRACT_PATH\n",
    "from nurs_routines import allocate_shifts_worked_extract"
   ]
  },
  {
   "cell_type": "markdown",
   "metadata": {},
   "source": [
    "\n",
    "Extract Allocate Shift Worked data without PID into a single file:\n",
    "Steps:\n",
    "1. Find file Allocate_Shifts_Worked_Combined.csv\n",
    "2. Remove any PID.\n",
    "3. Save to file Allocate_Shifts_Worked.csv\n"
   ]
  },
  {
   "cell_type": "code",
   "execution_count": null,
   "metadata": {},
   "outputs": [],
   "source": [
    "routine = ScriptFactory(\n",
    "    EXTRACT_PATH, \"Allocate_Shifts_Worked_Extract\", allocate_shifts_worked_extract.tasks\n",
    ")\n",
    "routine.process_script();"
   ]
  }
 ],
 "metadata": {
  "kernelspec": {
   "display_name": "Python 3",
   "language": "python",
   "name": "python3"
  },
  "language_info": {
   "codemirror_mode": {
    "name": "ipython",
    "version": 3
   },
   "file_extension": ".py",
   "mimetype": "text/x-python",
   "name": "python",
   "nbconvert_exporter": "python",
   "pygments_lexer": "ipython3",
   "version": "3.8.3"
  }
 },
 "nbformat": 4,
 "nbformat_minor": 4
}
