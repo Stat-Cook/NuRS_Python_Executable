{
 "cells": [
  {
   "cell_type": "markdown",
   "metadata": {},
   "source": [
    "## ESR Demographics - Report on missing quantity\n",
    "\n",
    "Prerequisites:\n",
    "\n",
    "* **ESR_Demographics** files are located in **Trust_data/ESR_Demographics/**\n",
    "* **demographics_combination** routine has been executed4\n",
    "\n",
    "Set up environment and import packages:"
   ]
  },
  {
   "cell_type": "code",
   "execution_count": null,
   "metadata": {},
   "outputs": [],
   "source": [
    "import os\n",
    "\n",
    "path, folder = os.path.split(os.getcwd())\n",
    "if folder == \"routine_notebooks\":\n",
    "    os.chdir(path)\n",
    "    \n",
    "from nurs_routines.utilities import ScriptFactory\n",
    "from nurs_routines.config import EXTRACT_PATH\n",
    "from nurs_routines import esr_demographics_missing_report"
   ]
  },
  {
   "cell_type": "markdown",
   "metadata": {},
   "source": [
    "Check how much of the demographic data is missing.\n",
    "Steps:\n",
    "1. Load the ESR demographics data.\n",
    "2. Check the average rate of NA values per column\n",
    "3. Write results to file."
   ]
  },
  {
   "cell_type": "code",
   "execution_count": null,
   "metadata": {},
   "outputs": [],
   "source": [
    "routine = ScriptFactory(\n",
    "    EXTRACT_PATH, \"ESR_Demographics_Missing\", esr_demographics_missing_report.tasks\n",
    ")\n",
    "routine.process_script();"
   ]
  }
 ],
 "metadata": {
  "kernelspec": {
   "display_name": "Python 3",
   "language": "python",
   "name": "python3"
  },
  "language_info": {
   "codemirror_mode": {
    "name": "ipython",
    "version": 3
   },
   "file_extension": ".py",
   "mimetype": "text/x-python",
   "name": "python",
   "nbconvert_exporter": "python",
   "pygments_lexer": "ipython3",
   "version": "3.8.3"
  }
 },
 "nbformat": 4,
 "nbformat_minor": 4
}
