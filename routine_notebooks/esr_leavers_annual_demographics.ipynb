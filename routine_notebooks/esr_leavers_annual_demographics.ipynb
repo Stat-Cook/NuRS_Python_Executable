{
 "cells": [
  {
   "cell_type": "markdown",
   "metadata": {},
   "source": [
    "## ESR Leavers Annual Demographics\n",
    "\n",
    "Prerequisites:\n",
    "\n",
    "* **ESR_Leavers** file is located in **Trust_data/**\n",
    "\n",
    "Set up environment and import packages:"
   ]
  },
  {
   "cell_type": "code",
   "execution_count": null,
   "metadata": {},
   "outputs": [],
   "source": [
    "import os\n",
    "\n",
    "path, folder = os.path.split(os.getcwd())\n",
    "if folder == \"routine_notebooks\":\n",
    "    os.chdir(path)\n",
    "    \n",
    "from nurs_routines.utilities import ScriptFactory, check_file_names\n",
    "from nurs_routines.config import EXTRACT_PATH\n",
    "from nurs_routines import esr_leavers_annual_demographics"
   ]
  },
  {
   "cell_type": "markdown",
   "metadata": {},
   "source": [
    "\n",
    "Combine ESR Leavers data sets into a single file.\n",
    "Steps:\n",
    "1. Find files in Trust_data/ESR_Leavers\n",
    "2. Calculate the Termination Year (TODO: consider financial year not calendar year)\n",
    "3. Remove PID\n",
    "4. Scramble at Organization-Year level.\n",
    "5. Save to file Leavers_Annual_Demographics.csv\n"
   ]
  },
  {
   "cell_type": "code",
   "execution_count": null,
   "metadata": {},
   "outputs": [],
   "source": [
    "check_file_names(\"ESR_Leavers\")\n",
    "\n",
    "routine = ScriptFactory(EXTRACT_PATH, \"ESR_Leavers\", esr_leavers_annual_demographics.tasks)\n",
    "routine.process_script();"
   ]
  }
 ],
 "metadata": {
  "kernelspec": {
   "display_name": "Python 3",
   "language": "python",
   "name": "python3"
  },
  "language_info": {
   "codemirror_mode": {
    "name": "ipython",
    "version": 3
   },
   "file_extension": ".py",
   "mimetype": "text/x-python",
   "name": "python",
   "nbconvert_exporter": "python",
   "pygments_lexer": "ipython3",
   "version": "3.8.3"
  }
 },
 "nbformat": 4,
 "nbformat_minor": 4
}
