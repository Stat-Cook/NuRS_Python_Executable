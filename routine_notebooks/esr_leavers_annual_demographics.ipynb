{
 "cells": [
  {
   "cell_type": "markdown",
   "metadata": {},
   "source": [
    "## ESR Leavers Annual Demographics\n",
    "\n",
    "Set up environment and import packages:"
   ]
  },
  {
   "cell_type": "code",
   "execution_count": 1,
   "metadata": {},
   "outputs": [],
   "source": [
    "import os\n",
    "\n",
    "path, folder = os.path.split(os.getcwd())\n",
    "if folder == \"routine_notebooks\":\n",
    "    os.chdir(path)\n",
    "    \n",
    "from nurs_routines.utilities import ScriptFactory, check_file_names\n",
    "from nurs_routines.config import EXTRACT_PATH"
   ]
  },
  {
   "cell_type": "markdown",
   "metadata": {},
   "source": [
    "\n",
    "Combine ESR Leavers data sets into a single file.\n",
    "Steps:\n",
    "1. Find files in Trust_data/ESR_Leavers\n",
    "2. Calculate the Termination Year (TODO: consider financial year not calendar year)\n",
    "3. Remove PID\n",
    "4. Scramble at Organization-Year level.\n",
    "5. Save to file Leavers_Annual_Demographics.csv\n"
   ]
  },
  {
   "cell_type": "code",
   "execution_count": 2,
   "metadata": {},
   "outputs": [
    {
     "name": "stdout",
     "output_type": "stream",
     "text": [
      "6\n",
      "\r",
      "|XXXXX...............| [28.6%]\r",
      "|XXXXXXXX............| [42.9%]\r",
      "|XXXXXXXXXXX.........| [57.1%]\r",
      "|XXXXXXXXXXXXXX......| [71.4%]\r",
      "|XXXXXXXXXXXXXXXXX...| [85.7%]\r",
      "|XXXXXXXXXXXXXXXXXXXX| [100.0%]Complete - data written to Extract_data\\Leavers_Annual_Demographics.csv\n"
     ]
    }
   ],
   "source": [
    "check_file_names(\"ESR_Leavers\")\n",
    "\n",
    "tasks = {\n",
    "    \"Load data\": dict(path=\"Trust_data\", name=\"ESR_Leavers\"),\n",
    "    \"Manipulate column\": dict(\n",
    "        new_column=\"Termination Year\",\n",
    "        old_column=\"Termination Date\",\n",
    "        function=lambda x: x.year\n",
    "    ),\n",
    "    \"Remove PID\": {},\n",
    "    \"Scramble\": dict(keys=[\"Organisation\", \"Termination Year\"]),\n",
    "    \"To file\": dict(extract_path=EXTRACT_PATH, file_name=\"Leavers_Annual_Demographics\")\n",
    "}\n",
    "\n",
    "routine = ScriptFactory(EXTRACT_PATH, \"ESR_Leavers\", tasks)\n",
    "routine.process_script();"
   ]
  }
 ],
 "metadata": {
  "kernelspec": {
   "display_name": "Python 3",
   "language": "python",
   "name": "python3"
  },
  "language_info": {
   "codemirror_mode": {
    "name": "ipython",
    "version": 3
   },
   "file_extension": ".py",
   "mimetype": "text/x-python",
   "name": "python",
   "nbconvert_exporter": "python",
   "pygments_lexer": "ipython3",
   "version": "3.8.3"
  }
 },
 "nbformat": 4,
 "nbformat_minor": 4
}
