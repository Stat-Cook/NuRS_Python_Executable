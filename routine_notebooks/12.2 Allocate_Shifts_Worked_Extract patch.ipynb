{
 "cells": [
  {
   "cell_type": "markdown",
   "id": "ff0e3136",
   "metadata": {},
   "source": [
    "## Allocate Shift Worked Extraction patch\n",
    "\n",
    "If script 12 returns an excessive memory error this code may fix the problem via chunking the files.\n"
   ]
  },
  {
   "cell_type": "code",
   "execution_count": null,
   "id": "656a4c7b",
   "metadata": {},
   "outputs": [],
   "source": [
    "import os\n",
    "\n",
    "path, folder = os.path.split(os.getcwd())\n",
    "if folder == \"routine_notebooks\":\n",
    "    os.chdir(path)\n",
    "    \n",
    "from nurs_routines.utilities import ScriptFactory\n",
    "from nurs_routines.config import EXTRACT_PATH"
   ]
  },
  {
   "cell_type": "code",
   "execution_count": null,
   "id": "40318d9b",
   "metadata": {},
   "outputs": [],
   "source": [
    "patch_tasks = {\n",
    "    'Load data': {'name': 'Allocate_Shifts_Worked_Combined', 'path': 'Trust_data/Temporary_Files'},\n",
    "     'Remove PID': {},\n",
    "     'To file by year': {\n",
    "         'extract_path': 'Extract_data',\n",
    "         'date_column': 'Duty Date',\n",
    "         'file_name_function': lambda x: f\"Allocate_Shifts_Worked_{x}\"\n",
    "     }\n",
    "}\n"
   ]
  },
  {
   "cell_type": "code",
   "execution_count": null,
   "id": "7bcd9840",
   "metadata": {},
   "outputs": [],
   "source": [
    "routine = ScriptFactory(\n",
    "    EXTRACT_PATH, \"Allocate_Shifts_Worked_Extract\", patch_tasks\n",
    ")\n",
    "routine.process_script();"
   ]
  }
 ],
 "metadata": {
  "kernelspec": {
   "display_name": "Python 3 (ipykernel)",
   "language": "python",
   "name": "python3"
  },
  "language_info": {
   "codemirror_mode": {
    "name": "ipython",
    "version": 3
   },
   "file_extension": ".py",
   "mimetype": "text/x-python",
   "name": "python",
   "nbconvert_exporter": "python",
   "pygments_lexer": "ipython3",
   "version": "3.10.7"
  }
 },
 "nbformat": 4,
 "nbformat_minor": 5
}
